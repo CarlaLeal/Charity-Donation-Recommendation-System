{
 "cells": [
  {
   "cell_type": "code",
   "execution_count": 124,
   "metadata": {},
   "outputs": [],
   "source": [
    "import pandas as pd\n",
    "import seaborn as sns\n",
    "import numpy as np\n",
    "from matplotlib import pyplot as plt\n",
    "from sklearn.preprocessing import OneHotEncoder\n",
    "from sklearn.metrics import pairwise_distances\n",
    "from  ml_metrics import mapk"
   ]
  },
  {
   "cell_type": "code",
   "execution_count": 148,
   "metadata": {},
   "outputs": [
    {
     "name": "stderr",
     "output_type": "stream",
     "text": [
      "/Users/carlaleal/opt/anaconda3/lib/python3.7/site-packages/IPython/core/interactiveshell.py:3063: DtypeWarning: Columns (4) have mixed types.Specify dtype option on import or set low_memory=False.\n",
      "  interactivity=interactivity, compiler=compiler, result=result)\n"
     ]
    }
   ],
   "source": [
    "donations = pd.read_csv('./donations.csv')\n",
    "projects = pd.read_csv('./projects.csv')\n",
    "schools = pd.read_csv('./schools.csv')\n",
    "donors = pd.read_csv('./donors.csv')"
   ]
  },
  {
   "cell_type": "code",
   "execution_count": null,
   "metadata": {},
   "outputs": [],
   "source": [
    "#donation_id_count_length= len(donation_id_count)\n",
    "#print('Percentage of donations that are repeated', donation_id_count[donation_id_count['donor_counts']<2].sum()/donation_id_count_length)\n",
    "#donation_id_count[donation_id_count['donor_counts']<2].sum()\n",
    "#donation_id_count[donation_id_count['donor_counts']>2].sum()"
   ]
  },
  {
   "cell_type": "code",
   "execution_count": null,
   "metadata": {},
   "outputs": [],
   "source": [
    "donations = donations.merge(projects, how='left', on='Project ID')\n",
    "donations = donations.merge(donation_id_count, how='left',on='Donor ID')"
   ]
  },
  {
   "cell_type": "markdown",
   "metadata": {},
   "source": [
    "### What percentage of the people who donated more than once, donated to a project tied to the same school?\n",
    "get donations data only for donors who donated more than once"
   ]
  },
  {
   "cell_type": "code",
   "execution_count": null,
   "metadata": {},
   "outputs": [],
   "source": [
    "print('len donations', len(donations))\n",
    "donations_repeat_donors = donations[donations['donor_counts']>1]\n",
    "print('len donor counts', len(donations_repeat_donors))\n",
    "donations_repeat_not_null = donations_repeat_donors.dropna()"
   ]
  },
  {
   "cell_type": "code",
   "execution_count": null,
   "metadata": {},
   "outputs": [],
   "source": [
    "donation_id_count = donation_id_count[donation_id_count['donor_counts']<=3]"
   ]
  },
  {
   "cell_type": "code",
   "execution_count": null,
   "metadata": {},
   "outputs": [],
   "source": [
    "fig, ax = plt.subplots(1,2, figsize=(30,30))\n",
    "donations_by_category = sns.countplot(data=projects, x='Project Resource Category', ax=ax[0])\n",
    "project_category_count = sns.countplot(data=projects, x='Project Grade Level Category', ax=ax[1])\n",
    "for a in ax:\n",
    "    for tick in a.get_xticklabels():\n",
    "        tick.set_rotation(45)\n",
    "plt.show()\n",
    "#So books, supplies and technology have the highest amount of donations"
   ]
  },
  {
   "cell_type": "code",
   "execution_count": null,
   "metadata": {},
   "outputs": [],
   "source": [
    "plt.figure(figsize=(20,15))\n",
    "supplies_sub_category = sns.countplot(data=projects[projects['Project Resource Category']=='Supplies'],x='Project Subject Category Tree')\n",
    "plt.xticks(rotation=45)\n",
    "plt.show()"
   ]
  },
  {
   "cell_type": "code",
   "execution_count": null,
   "metadata": {},
   "outputs": [],
   "source": [
    "fig, ax = plt.subplots(3,2,figsize=(30,20))\n",
    "donation_amount = sns.boxplot(x=donations['Donation Amount'], ax=ax[0])\n",
    "project_cost = sns.boxplot(x=projects['Project Cost'], ax=ax[1])\n"
   ]
  },
  {
   "cell_type": "code",
   "execution_count": null,
   "metadata": {},
   "outputs": [],
   "source": [
    "x = np.sort(donation_id_count['donor_counts'])\n",
    "y = np.arange(0, len(donation_id_count))/len(donation_id_count)\n",
    "cum_dist_donor_counts = plt.plot(x,y,marker='.', linestyle='none')"
   ]
  },
  {
   "cell_type": "markdown",
   "metadata": {},
   "source": [
    "## Cleaning"
   ]
  },
  {
   "cell_type": "code",
   "execution_count": 126,
   "metadata": {},
   "outputs": [],
   "source": [
    "project_columns = ['Project ID', 'School ID', 'Project Resource Category', 'Project Grade Level Category']\n",
    "school_columns = ['School ID', 'School Metro Type', 'School Percentage Free Lunch', 'School State', 'School District']\n",
    "unprocessed_donations = donations[['Donation ID','Donor ID','Project ID', 'Donation Received Date']].merge(projects[project_columns], how='left', on='Project ID').merge(schools[school_columns], how='left', on='School ID')\n",
    "unprocessed_donations['Donation Received Date'] = pd.to_datetime(unprocessed_donations['Donation Received Date'])"
   ]
  },
  {
   "cell_type": "code",
   "execution_count": 127,
   "metadata": {},
   "outputs": [
    {
     "name": "stdout",
     "output_type": "stream",
     "text": [
      "Percentage of null values for  Project ID is:  0.0 %\n",
      "Percentage of null values for  School ID is:  1.5737154073892992 %\n",
      "Percentage of null values for  Project Resource Category is:  1.5765738380639296 %\n",
      "Percentage of null values for  Project Grade Level Category is:  1.5737154073892992 %\n",
      "Percentage of null values for  School ID is:  1.5737154073892992 %\n",
      "Percentage of null values for  School Metro Type is:  1.57437668612746 %\n",
      "Percentage of null values for  School Percentage Free Lunch is:  2.042668690606237 %\n",
      "Percentage of null values for  School State is:  1.57437668612746 %\n",
      "Percentage of null values for  School District is:  1.57437668612746 %\n"
     ]
    }
   ],
   "source": [
    "columns = project_columns + school_columns\n",
    "for column in columns:\n",
    "    print('Percentage of null values for ', column, 'is: ',(unprocessed_donations[column].isnull().sum()/ len(unprocessed_donations[column])*100) , '%')"
   ]
  },
  {
   "cell_type": "code",
   "execution_count": 128,
   "metadata": {},
   "outputs": [],
   "source": [
    "unprocessed_donations = unprocessed_donations.dropna()\n",
    "unprocessed_donations = unprocessed_donations.reset_index(drop=True)"
   ]
  },
  {
   "cell_type": "code",
   "execution_count": 130,
   "metadata": {},
   "outputs": [],
   "source": [
    "donation_id_count = donations['Donor ID'].value_counts()\n",
    "donation_id_count = donation_id_count.to_frame(name='donor_counts')\n",
    "donation_id_count = donation_id_count.reset_index().rename(columns={'index':'Donor ID'})\n",
    "unprocessed_donations = unprocessed_donations.merge(donation_id_count, how='left',on='Donor ID')"
   ]
  },
  {
   "cell_type": "code",
   "execution_count": 131,
   "metadata": {},
   "outputs": [],
   "source": [
    "# Sorting by Donor ID so that the subset of the data that we keep contains all possible donation id recommendations\n",
    "# This way we can properly evaluate our recommendations \n",
    "unprocessed_donations = unprocessed_donations[unprocessed_donations['donor_counts']>1]\n",
    "unprocessed_donations = unprocessed_donations.sort_values(by='Donor ID')\n",
    "unprocessed_donations = unprocessed_donations.iloc[:2300,:]\n",
    "unprocessed_donations = unprocessed_donations.reset_index(drop=True)"
   ]
  },
  {
   "cell_type": "code",
   "execution_count": 132,
   "metadata": {},
   "outputs": [],
   "source": [
    "enc = OneHotEncoder()\n",
    "encoded = enc.fit_transform(unprocessed_donations[['Project Resource Category', 'Project Grade Level Category', 'School State']]).toarray()\n",
    "feature_labels = enc.get_feature_names()\n",
    "processed_donations = pd.DataFrame(encoded, columns=feature_labels)"
   ]
  },
  {
   "cell_type": "code",
   "execution_count": 133,
   "metadata": {},
   "outputs": [],
   "source": [
    "processed_donations = processed_donations.apply(lambda x: x.astype('bool'))"
   ]
  },
  {
   "cell_type": "markdown",
   "metadata": {},
   "source": [
    "## Recommendation"
   ]
  },
  {
   "cell_type": "code",
   "execution_count": 134,
   "metadata": {},
   "outputs": [],
   "source": [
    "similarity_matrix = pairwise_distances(processed_donations.to_numpy(), processed_donations.to_numpy(),metric='jaccard')\n",
    "mapping = pd.Series(processed_donations.index, index=unprocessed_donations['Donation ID'])"
   ]
  },
  {
   "cell_type": "code",
   "execution_count": 139,
   "metadata": {},
   "outputs": [],
   "source": [
    "def get_donation_id(donor_id,transaction_number='first'):\n",
    "    donations = unprocessed_donations[unprocessed_donations['Donor ID']==donor_id].sort_values(by='Donation Received Date')['Donation ID'].to_numpy()\n",
    "    if transaction_number=='first':\n",
    "        return donations[0]\n",
    "    elif transaction_number=='last':\n",
    "        return donations[len(donations)-1]    \n",
    "    \n",
    "def get_recommendation(donation_id):\n",
    "    index = mapping[donation_id]\n",
    "    similarity_scores = list(enumerate(similarity_matrix[index]))\n",
    "    similarity_scores = sorted(similarity_scores, key=lambda score:score[1], reverse=True)\n",
    "    donation_indeces = [score[0] for score in similarity_scores[:5]]\n",
    "    return unprocessed_donations['Project ID'].iloc[donation_indeces].tolist()                        "
   ]
  },
  {
   "cell_type": "markdown",
   "metadata": {},
   "source": [
    "## Evaluation"
   ]
  },
  {
   "cell_type": "code",
   "execution_count": 140,
   "metadata": {},
   "outputs": [],
   "source": [
    "unique_donor_ids = unprocessed_donations['Donor ID'].unique()\n",
    "actual_donations = []\n",
    "predicted_donations = []\n",
    "for i in range(len(unique_donor_ids)):\n",
    "    donor_id = unique_donor_ids[i]\n",
    "    donation_id = get_donation_id(donor_id, transaction_number='first')\n",
    "    predicted_donations.append(get_recommendation(donation_id))\n",
    "    actual_donations.append(unprocessed_donations[unprocessed_donations['Donor ID']==donor_id]['Project ID'].tolist())"
   ]
  },
  {
   "cell_type": "code",
   "execution_count": 147,
   "metadata": {},
   "outputs": [
    {
     "data": {
      "text/plain": [
       "0.001"
      ]
     },
     "execution_count": 147,
     "metadata": {},
     "output_type": "execute_result"
    }
   ],
   "source": [
    "mapk(actual_donations, predicted_donations, 5)"
   ]
  }
 ],
 "metadata": {
  "kernelspec": {
   "display_name": "Python 3",
   "language": "python",
   "name": "python3"
  },
  "language_info": {
   "codemirror_mode": {
    "name": "ipython",
    "version": 3
   },
   "file_extension": ".py",
   "mimetype": "text/x-python",
   "name": "python",
   "nbconvert_exporter": "python",
   "pygments_lexer": "ipython3",
   "version": "3.7.6"
  }
 },
 "nbformat": 4,
 "nbformat_minor": 4
}
