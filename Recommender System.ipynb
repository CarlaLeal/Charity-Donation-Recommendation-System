{
 "cells": [
  {
   "cell_type": "code",
   "execution_count": 10,
   "metadata": {},
   "outputs": [],
   "source": [
    "import pandas as pd\n",
    "import seaborn as sns\n",
    "import numpy as np\n",
    "from matplotlib import pyplot as plt\n",
    "from sklearn.preprocessing import OneHotEncoder\n",
    "from sklearn.metrics.pairwise import linear_kernel"
   ]
  },
  {
   "cell_type": "code",
   "execution_count": 11,
   "metadata": {},
   "outputs": [],
   "source": [
    "donations = pd.read_csv('~/Desktop/recommender_system_project/donations.csv')\n",
    "projects = pd.read_csv('~/Desktop/recommender_system_project/projects.csv')\n",
    "schools = pd.read_csv('~/Desktop/recommender_system_project/schools.csv')"
   ]
  },
  {
   "cell_type": "code",
   "execution_count": 13,
   "metadata": {},
   "outputs": [
    {
     "data": {
      "text/html": [
       "<div>\n",
       "<style scoped>\n",
       "    .dataframe tbody tr th:only-of-type {\n",
       "        vertical-align: middle;\n",
       "    }\n",
       "\n",
       "    .dataframe tbody tr th {\n",
       "        vertical-align: top;\n",
       "    }\n",
       "\n",
       "    .dataframe thead th {\n",
       "        text-align: right;\n",
       "    }\n",
       "</style>\n",
       "<table border=\"1\" class=\"dataframe\">\n",
       "  <thead>\n",
       "    <tr style=\"text-align: right;\">\n",
       "      <th></th>\n",
       "      <th>Donor ID</th>\n",
       "      <th>donor_counts</th>\n",
       "    </tr>\n",
       "  </thead>\n",
       "  <tbody>\n",
       "    <tr>\n",
       "      <th>0</th>\n",
       "      <td>39df9399f5384334a42905bcf0acdcbf</td>\n",
       "      <td>18035</td>\n",
       "    </tr>\n",
       "    <tr>\n",
       "      <th>1</th>\n",
       "      <td>237db43817f34988f9d543ca518be4ee</td>\n",
       "      <td>14565</td>\n",
       "    </tr>\n",
       "    <tr>\n",
       "      <th>2</th>\n",
       "      <td>a0e1d358aa17745ff3d3f4e4909356f3</td>\n",
       "      <td>10515</td>\n",
       "    </tr>\n",
       "    <tr>\n",
       "      <th>3</th>\n",
       "      <td>6f74ffb17cbb2b616b1eef06bd4acd0c</td>\n",
       "      <td>9029</td>\n",
       "    </tr>\n",
       "    <tr>\n",
       "      <th>4</th>\n",
       "      <td>a1929a1172ad0b3d14bc84f54018c563</td>\n",
       "      <td>6427</td>\n",
       "    </tr>\n",
       "  </tbody>\n",
       "</table>\n",
       "</div>"
      ],
      "text/plain": [
       "                           Donor ID  donor_counts\n",
       "0  39df9399f5384334a42905bcf0acdcbf         18035\n",
       "1  237db43817f34988f9d543ca518be4ee         14565\n",
       "2  a0e1d358aa17745ff3d3f4e4909356f3         10515\n",
       "3  6f74ffb17cbb2b616b1eef06bd4acd0c          9029\n",
       "4  a1929a1172ad0b3d14bc84f54018c563          6427"
      ]
     },
     "execution_count": 13,
     "metadata": {},
     "output_type": "execute_result"
    }
   ],
   "source": [
    "donation_id_count = donations['Donor ID'].value_counts()\n",
    "donation_id_count = donation_id_count.to_frame(name='donor_counts')\n",
    "donation_id_count = donation_id_count.reset_index().rename(columns={'index':'Donor ID'})\n",
    "donation_id_count.head()"
   ]
  },
  {
   "cell_type": "code",
   "execution_count": null,
   "metadata": {},
   "outputs": [],
   "source": [
    "#donation_id_count_length= len(donation_id_count)\n",
    "#print('Percentage of donations that are repeated', donation_id_count[donation_id_count['donor_counts']<2].sum()/donation_id_count_length)\n",
    "#donation_id_count[donation_id_count['donor_counts']<2].sum()\n",
    "#donation_id_count[donation_id_count['donor_counts']>2].sum()"
   ]
  },
  {
   "cell_type": "code",
   "execution_count": null,
   "metadata": {},
   "outputs": [],
   "source": [
    "donations = donations.merge(projects, how='left', on='Project ID')\n",
    "donations = donations.merge(donation_id_count, how='left',on='Donor ID')"
   ]
  },
  {
   "cell_type": "markdown",
   "metadata": {},
   "source": [
    "### What percentage of the people who donated more than once, donated to a project tied to the same school?\n",
    "get donations data only for donors who donated more than once"
   ]
  },
  {
   "cell_type": "code",
   "execution_count": null,
   "metadata": {},
   "outputs": [],
   "source": [
    "print('len donations', len(donations))\n",
    "donations_repeat_donors = donations[donations['donor_counts']>1]\n",
    "print('len donor counts', len(donations_repeat_donors))\n",
    "donations_repeat_not_null = donations_repeat_donors.dropna()"
   ]
  },
  {
   "cell_type": "code",
   "execution_count": null,
   "metadata": {},
   "outputs": [],
   "source": [
    "donation_id_count = donation_id_count[donation_id_count['donor_counts']<=3]"
   ]
  },
  {
   "cell_type": "code",
   "execution_count": null,
   "metadata": {},
   "outputs": [],
   "source": [
    "fig, ax = plt.subplots(1,2, figsize=(30,30))\n",
    "donations_by_category = sns.countplot(data=projects, x='Project Resource Category', ax=ax[0])\n",
    "project_category_count = sns.countplot(data=projects, x='Project Grade Level Category', ax=ax[1])\n",
    "for a in ax:\n",
    "    for tick in a.get_xticklabels():\n",
    "        tick.set_rotation(45)\n",
    "plt.show()\n",
    "#So books, supplies and technology have the highest amount of donations"
   ]
  },
  {
   "cell_type": "code",
   "execution_count": null,
   "metadata": {},
   "outputs": [],
   "source": [
    "plt.figure(figsize=(20,15))\n",
    "supplies_sub_category = sns.countplot(data=projects[projects['Project Resource Category']=='Supplies'],x='Project Subject Category Tree')\n",
    "plt.xticks(rotation=45)\n",
    "plt.show()"
   ]
  },
  {
   "cell_type": "code",
   "execution_count": null,
   "metadata": {},
   "outputs": [],
   "source": [
    "fig, ax = plt.subplots(3,2,figsize=(30,20))\n",
    "donation_amount = sns.boxplot(x=donations['Donation Amount'], ax=ax[0])\n",
    "project_cost = sns.boxplot(x=projects['Project Cost'], ax=ax[1])\n"
   ]
  },
  {
   "cell_type": "code",
   "execution_count": null,
   "metadata": {},
   "outputs": [],
   "source": [
    "x = np.sort(donation_id_count['donor_counts'])\n",
    "y = np.arange(0, len(donation_id_count))/len(donation_id_count)\n",
    "cum_dist_donor_counts = plt.plot(x,y,marker='.', linestyle='none')"
   ]
  },
  {
   "cell_type": "markdown",
   "metadata": {},
   "source": [
    "## Cleaning"
   ]
  },
  {
   "cell_type": "code",
   "execution_count": 12,
   "metadata": {},
   "outputs": [],
   "source": [
    "project_columns = ['Project ID', 'School ID', 'Project Resource Category', 'Project Grade Level Category']\n",
    "school_columns = ['School ID', 'School Metro Type', 'School Percentage Free Lunch', 'School State', 'School District']\n",
    "unprocessed_donations = donations[['Donation ID', 'Project ID']].merge(projects[project_columns], how='left', on='Project ID').merge(schools[school_columns], how='left', on='School ID')"
   ]
  },
  {
   "cell_type": "code",
   "execution_count": 13,
   "metadata": {},
   "outputs": [
    {
     "data": {
      "text/html": [
       "<div>\n",
       "<style scoped>\n",
       "    .dataframe tbody tr th:only-of-type {\n",
       "        vertical-align: middle;\n",
       "    }\n",
       "\n",
       "    .dataframe tbody tr th {\n",
       "        vertical-align: top;\n",
       "    }\n",
       "\n",
       "    .dataframe thead th {\n",
       "        text-align: right;\n",
       "    }\n",
       "</style>\n",
       "<table border=\"1\" class=\"dataframe\">\n",
       "  <thead>\n",
       "    <tr style=\"text-align: right;\">\n",
       "      <th></th>\n",
       "      <th>Donation ID</th>\n",
       "      <th>Project ID</th>\n",
       "      <th>School ID</th>\n",
       "      <th>Project Resource Category</th>\n",
       "      <th>Project Grade Level Category</th>\n",
       "      <th>School Metro Type</th>\n",
       "      <th>School Percentage Free Lunch</th>\n",
       "      <th>School State</th>\n",
       "      <th>School District</th>\n",
       "    </tr>\n",
       "  </thead>\n",
       "  <tbody>\n",
       "    <tr>\n",
       "      <th>0</th>\n",
       "      <td>688729120858666221208529ee3fc18e</td>\n",
       "      <td>000009891526c0ade7180f8423792063</td>\n",
       "      <td>5aa86a53f658c198fd4e42c541411c76</td>\n",
       "      <td>Other</td>\n",
       "      <td>Grades 6-8</td>\n",
       "      <td>suburban</td>\n",
       "      <td>23.0</td>\n",
       "      <td>Utah</td>\n",
       "      <td>Jordan School District</td>\n",
       "    </tr>\n",
       "    <tr>\n",
       "      <th>1</th>\n",
       "      <td>dcf1071da3aa3561f91ac689d1f73dee</td>\n",
       "      <td>000009891526c0ade7180f8423792063</td>\n",
       "      <td>5aa86a53f658c198fd4e42c541411c76</td>\n",
       "      <td>Other</td>\n",
       "      <td>Grades 6-8</td>\n",
       "      <td>suburban</td>\n",
       "      <td>23.0</td>\n",
       "      <td>Utah</td>\n",
       "      <td>Jordan School District</td>\n",
       "    </tr>\n",
       "    <tr>\n",
       "      <th>2</th>\n",
       "      <td>18a234b9d1e538c431761d521ea7799d</td>\n",
       "      <td>000009891526c0ade7180f8423792063</td>\n",
       "      <td>5aa86a53f658c198fd4e42c541411c76</td>\n",
       "      <td>Other</td>\n",
       "      <td>Grades 6-8</td>\n",
       "      <td>suburban</td>\n",
       "      <td>23.0</td>\n",
       "      <td>Utah</td>\n",
       "      <td>Jordan School District</td>\n",
       "    </tr>\n",
       "    <tr>\n",
       "      <th>3</th>\n",
       "      <td>38d2744bf9138b0b57ed581c76c0e2da</td>\n",
       "      <td>000009891526c0ade7180f8423792063</td>\n",
       "      <td>5aa86a53f658c198fd4e42c541411c76</td>\n",
       "      <td>Other</td>\n",
       "      <td>Grades 6-8</td>\n",
       "      <td>suburban</td>\n",
       "      <td>23.0</td>\n",
       "      <td>Utah</td>\n",
       "      <td>Jordan School District</td>\n",
       "    </tr>\n",
       "    <tr>\n",
       "      <th>4</th>\n",
       "      <td>5a032791e31167a70206bfb86fb60035</td>\n",
       "      <td>000009891526c0ade7180f8423792063</td>\n",
       "      <td>5aa86a53f658c198fd4e42c541411c76</td>\n",
       "      <td>Other</td>\n",
       "      <td>Grades 6-8</td>\n",
       "      <td>suburban</td>\n",
       "      <td>23.0</td>\n",
       "      <td>Utah</td>\n",
       "      <td>Jordan School District</td>\n",
       "    </tr>\n",
       "  </tbody>\n",
       "</table>\n",
       "</div>"
      ],
      "text/plain": [
       "                        Donation ID                        Project ID  \\\n",
       "0  688729120858666221208529ee3fc18e  000009891526c0ade7180f8423792063   \n",
       "1  dcf1071da3aa3561f91ac689d1f73dee  000009891526c0ade7180f8423792063   \n",
       "2  18a234b9d1e538c431761d521ea7799d  000009891526c0ade7180f8423792063   \n",
       "3  38d2744bf9138b0b57ed581c76c0e2da  000009891526c0ade7180f8423792063   \n",
       "4  5a032791e31167a70206bfb86fb60035  000009891526c0ade7180f8423792063   \n",
       "\n",
       "                          School ID Project Resource Category  \\\n",
       "0  5aa86a53f658c198fd4e42c541411c76                     Other   \n",
       "1  5aa86a53f658c198fd4e42c541411c76                     Other   \n",
       "2  5aa86a53f658c198fd4e42c541411c76                     Other   \n",
       "3  5aa86a53f658c198fd4e42c541411c76                     Other   \n",
       "4  5aa86a53f658c198fd4e42c541411c76                     Other   \n",
       "\n",
       "  Project Grade Level Category School Metro Type  \\\n",
       "0                   Grades 6-8          suburban   \n",
       "1                   Grades 6-8          suburban   \n",
       "2                   Grades 6-8          suburban   \n",
       "3                   Grades 6-8          suburban   \n",
       "4                   Grades 6-8          suburban   \n",
       "\n",
       "   School Percentage Free Lunch School State         School District  \n",
       "0                          23.0         Utah  Jordan School District  \n",
       "1                          23.0         Utah  Jordan School District  \n",
       "2                          23.0         Utah  Jordan School District  \n",
       "3                          23.0         Utah  Jordan School District  \n",
       "4                          23.0         Utah  Jordan School District  "
      ]
     },
     "execution_count": 13,
     "metadata": {},
     "output_type": "execute_result"
    }
   ],
   "source": [
    "unprocessed_donations.head()"
   ]
  },
  {
   "cell_type": "code",
   "execution_count": 14,
   "metadata": {},
   "outputs": [
    {
     "name": "stdout",
     "output_type": "stream",
     "text": [
      "Percentage of null values 0.0 %\n",
      "Percentage of null values 1.5737154073892992 %\n",
      "Percentage of null values 1.5765738380639296 %\n",
      "Percentage of null values 1.5737154073892992 %\n",
      "Percentage of null values 1.5737154073892992 %\n",
      "Percentage of null values 1.57437668612746 %\n",
      "Percentage of null values 2.042668690606237 %\n",
      "Percentage of null values 1.57437668612746 %\n",
      "Percentage of null values 1.57437668612746 %\n"
     ]
    }
   ],
   "source": [
    "columns = project_columns + school_columns\n",
    "for column in columns:\n",
    "    print('Percentage of null values', (unprocessed_donations[column].isnull().sum()/ len(unprocessed_donations[column])*100) , '%')"
   ]
  },
  {
   "cell_type": "code",
   "execution_count": 15,
   "metadata": {},
   "outputs": [],
   "source": [
    "unprocessed_donations = unprocessed_donations.dropna()\n",
    "unprocessed_donations = unprocessed_donations.reset_index()"
   ]
  },
  {
   "cell_type": "code",
   "execution_count": 16,
   "metadata": {},
   "outputs": [],
   "source": [
    "enc = OneHotEncoder()\n",
    "encoded = enc.fit_transform(processed_donations[['Project Resource Category', 'Project Grade Level Category', 'School Metro Type','School State', 'School District']]).toarray()\n",
    "feature_labels = enc.get_feature_names()\n",
    "enc_matrix = pd.DataFrame(encoded, columns=feature_labels)"
   ]
  },
  {
   "cell_type": "code",
   "execution_count": 17,
   "metadata": {},
   "outputs": [
    {
     "name": "stdout",
     "output_type": "stream",
     "text": [
      "<class 'pandas.core.frame.DataFrame'>\n",
      "RangeIndex: 4591995 entries, 0 to 4591994\n",
      "Columns: 10453 entries, x0_Art Supplies to x4_[State Run]\n",
      "dtypes: float64(10453)\n",
      "memory usage: 357.6 GB\n",
      "<class 'pandas.core.frame.DataFrame'>\n",
      "RangeIndex: 4591995 entries, 0 to 4591994\n",
      "Data columns (total 10 columns):\n",
      " #   Column                        Dtype  \n",
      "---  ------                        -----  \n",
      " 0   index                         int64  \n",
      " 1   Donation ID                   object \n",
      " 2   Project ID                    object \n",
      " 3   School ID                     object \n",
      " 4   Project Resource Category     object \n",
      " 5   Project Grade Level Category  object \n",
      " 6   School Metro Type             object \n",
      " 7   School Percentage Free Lunch  float64\n",
      " 8   School State                  object \n",
      " 9   School District               object \n",
      "dtypes: float64(1), int64(1), object(8)\n",
      "memory usage: 350.3+ MB\n"
     ]
    }
   ],
   "source": [
    "enc_matrix.info()\n",
    "processed_donations.info()"
   ]
  },
  {
   "cell_type": "code",
   "execution_count": null,
   "metadata": {},
   "outputs": [],
   "source": [
    "processed_donations = unprocessed_donations[['School Percentage Free Lunch']].merge(enc_matrix, how='left', left_index=True, right_index=True)"
   ]
  },
  {
   "cell_type": "code",
   "execution_count": null,
   "metadata": {},
   "outputs": [],
   "source": [
    "processed_df = projects_schools[['School Percentage Free Lunch']].merge(enc_matrix, left_index=True, right_index=True)\n",
    "processed_df.head()"
   ]
  },
  {
   "cell_type": "markdown",
   "metadata": {},
   "source": [
    "## Recommendation"
   ]
  },
  {
   "cell_type": "code",
   "execution_count": null,
   "metadata": {},
   "outputs": [],
   "source": [
    "similarity_matrix = linear_kernel(processed_donations, processed_donations)\n",
    "mapping = pd.Series(processed_donations.index, index=processed_donations['Donation ID'])"
   ]
  },
  {
   "cell_type": "code",
   "execution_count": null,
   "metadata": {},
   "outputs": [],
   "source": [
    "def get_recommendaiton(donation_id):\n",
    "    index = mapping[donation_id]\n",
    "    similarity_scores = list(enumerate(similarity_matrix[index]))\n",
    "    similarity_scores = sorted(similarity_scores, key=lambda score:score[1], reverse=True)\n",
    "    donation_indeces = [score[0] for score in similarity_scores[:5]]\n",
    "    return unprocessed_donations['Project ID'].iloc[donation_indeces]                \n",
    "                             "
   ]
  }
 ],
 "metadata": {
  "kernelspec": {
   "display_name": "Python 3",
   "language": "python",
   "name": "python3"
  },
  "language_info": {
   "codemirror_mode": {
    "name": "ipython",
    "version": 3
   },
   "file_extension": ".py",
   "mimetype": "text/x-python",
   "name": "python",
   "nbconvert_exporter": "python",
   "pygments_lexer": "ipython3",
   "version": "3.7.6"
  }
 },
 "nbformat": 4,
 "nbformat_minor": 4
}
